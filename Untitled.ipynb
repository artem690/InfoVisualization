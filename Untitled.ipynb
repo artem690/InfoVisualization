{
 "cells": [
  {
   "cell_type": "markdown",
   "metadata": {},
   "source": [
    "### Team Members ###\n",
    "- Artem Nekrasov\n",
    "- Jessie Ryce\n"
   ]
  },
  {
   "cell_type": "markdown",
   "metadata": {},
   "source": [
    "#### Datasets used: ####\n",
    "1. https://github.com/fivethirtyeight/data/tree/master/airline-safety"
   ]
  },
  {
   "cell_type": "code",
   "execution_count": 2,
   "metadata": {},
   "outputs": [
    {
     "data": {
      "text/html": [
       "<div>\n",
       "<style scoped>\n",
       "    .dataframe tbody tr th:only-of-type {\n",
       "        vertical-align: middle;\n",
       "    }\n",
       "\n",
       "    .dataframe tbody tr th {\n",
       "        vertical-align: top;\n",
       "    }\n",
       "\n",
       "    .dataframe thead th {\n",
       "        text-align: right;\n",
       "    }\n",
       "</style>\n",
       "<table border=\"1\" class=\"dataframe\">\n",
       "  <thead>\n",
       "    <tr style=\"text-align: right;\">\n",
       "      <th></th>\n",
       "      <th>airline</th>\n",
       "      <th>avail_seat_km_per_week</th>\n",
       "      <th>incidents_85_99</th>\n",
       "      <th>fatal_accidents_85_99</th>\n",
       "      <th>fatalities_85_99</th>\n",
       "      <th>incidents_00_14</th>\n",
       "      <th>fatal_accidents_00_14</th>\n",
       "      <th>fatalities_00_14</th>\n",
       "    </tr>\n",
       "  </thead>\n",
       "  <tbody>\n",
       "    <tr>\n",
       "      <th>0</th>\n",
       "      <td>Aer Lingus</td>\n",
       "      <td>320906734</td>\n",
       "      <td>2</td>\n",
       "      <td>0</td>\n",
       "      <td>0</td>\n",
       "      <td>0</td>\n",
       "      <td>0</td>\n",
       "      <td>0</td>\n",
       "    </tr>\n",
       "    <tr>\n",
       "      <th>1</th>\n",
       "      <td>Aeroflot*</td>\n",
       "      <td>1197672318</td>\n",
       "      <td>76</td>\n",
       "      <td>14</td>\n",
       "      <td>128</td>\n",
       "      <td>6</td>\n",
       "      <td>1</td>\n",
       "      <td>88</td>\n",
       "    </tr>\n",
       "    <tr>\n",
       "      <th>2</th>\n",
       "      <td>Aerolineas Argentinas</td>\n",
       "      <td>385803648</td>\n",
       "      <td>6</td>\n",
       "      <td>0</td>\n",
       "      <td>0</td>\n",
       "      <td>1</td>\n",
       "      <td>0</td>\n",
       "      <td>0</td>\n",
       "    </tr>\n",
       "    <tr>\n",
       "      <th>3</th>\n",
       "      <td>Aeromexico*</td>\n",
       "      <td>596871813</td>\n",
       "      <td>3</td>\n",
       "      <td>1</td>\n",
       "      <td>64</td>\n",
       "      <td>5</td>\n",
       "      <td>0</td>\n",
       "      <td>0</td>\n",
       "    </tr>\n",
       "    <tr>\n",
       "      <th>4</th>\n",
       "      <td>Air Canada</td>\n",
       "      <td>1865253802</td>\n",
       "      <td>2</td>\n",
       "      <td>0</td>\n",
       "      <td>0</td>\n",
       "      <td>2</td>\n",
       "      <td>0</td>\n",
       "      <td>0</td>\n",
       "    </tr>\n",
       "  </tbody>\n",
       "</table>\n",
       "</div>"
      ],
      "text/plain": [
       "                 airline  avail_seat_km_per_week  incidents_85_99  \\\n",
       "0             Aer Lingus               320906734                2   \n",
       "1              Aeroflot*              1197672318               76   \n",
       "2  Aerolineas Argentinas               385803648                6   \n",
       "3            Aeromexico*               596871813                3   \n",
       "4             Air Canada              1865253802                2   \n",
       "\n",
       "   fatal_accidents_85_99  fatalities_85_99  incidents_00_14  \\\n",
       "0                      0                 0                0   \n",
       "1                     14               128                6   \n",
       "2                      0                 0                1   \n",
       "3                      1                64                5   \n",
       "4                      0                 0                2   \n",
       "\n",
       "   fatal_accidents_00_14  fatalities_00_14  \n",
       "0                      0                 0  \n",
       "1                      1                88  \n",
       "2                      0                 0  \n",
       "3                      0                 0  \n",
       "4                      0                 0  "
      ]
     },
     "execution_count": 2,
     "metadata": {},
     "output_type": "execute_result"
    }
   ],
   "source": [
    "import pandas as pd\n",
    "import altair as alt\n",
    "\n",
    "\n",
    "dataset = pd.read_csv(\"airline-safety.csv\")\n",
    "dataset.head(5)"
   ]
  },
  {
   "cell_type": "code",
   "execution_count": 6,
   "metadata": {},
   "outputs": [
    {
     "data": {
      "text/html": [
       "\n",
       "<div id=\"altair-viz-4d46364889ac411795e44087626dda54\"></div>\n",
       "<script type=\"text/javascript\">\n",
       "  (function(spec, embedOpt){\n",
       "    let outputDiv = document.currentScript.previousElementSibling;\n",
       "    if (outputDiv.id !== \"altair-viz-4d46364889ac411795e44087626dda54\") {\n",
       "      outputDiv = document.getElementById(\"altair-viz-4d46364889ac411795e44087626dda54\");\n",
       "    }\n",
       "    const paths = {\n",
       "      \"vega\": \"https://cdn.jsdelivr.net/npm//vega@5?noext\",\n",
       "      \"vega-lib\": \"https://cdn.jsdelivr.net/npm//vega-lib?noext\",\n",
       "      \"vega-lite\": \"https://cdn.jsdelivr.net/npm//vega-lite@4.8.1?noext\",\n",
       "      \"vega-embed\": \"https://cdn.jsdelivr.net/npm//vega-embed@6?noext\",\n",
       "    };\n",
       "\n",
       "    function loadScript(lib) {\n",
       "      return new Promise(function(resolve, reject) {\n",
       "        var s = document.createElement('script');\n",
       "        s.src = paths[lib];\n",
       "        s.async = true;\n",
       "        s.onload = () => resolve(paths[lib]);\n",
       "        s.onerror = () => reject(`Error loading script: ${paths[lib]}`);\n",
       "        document.getElementsByTagName(\"head\")[0].appendChild(s);\n",
       "      });\n",
       "    }\n",
       "\n",
       "    function showError(err) {\n",
       "      outputDiv.innerHTML = `<div class=\"error\" style=\"color:red;\">${err}</div>`;\n",
       "      throw err;\n",
       "    }\n",
       "\n",
       "    function displayChart(vegaEmbed) {\n",
       "      vegaEmbed(outputDiv, spec, embedOpt)\n",
       "        .catch(err => showError(`Javascript Error: ${err.message}<br>This usually means there's a typo in your chart specification. See the javascript console for the full traceback.`));\n",
       "    }\n",
       "\n",
       "    if(typeof define === \"function\" && define.amd) {\n",
       "      requirejs.config({paths});\n",
       "      require([\"vega-embed\"], displayChart, err => showError(`Error loading script: ${err.message}`));\n",
       "    } else if (typeof vegaEmbed === \"function\") {\n",
       "      displayChart(vegaEmbed);\n",
       "    } else {\n",
       "      loadScript(\"vega\")\n",
       "        .then(() => loadScript(\"vega-lite\"))\n",
       "        .then(() => loadScript(\"vega-embed\"))\n",
       "        .catch(showError)\n",
       "        .then(() => displayChart(vegaEmbed));\n",
       "    }\n",
       "  })({\"config\": {\"view\": {\"continuousWidth\": 400, \"continuousHeight\": 300}}, \"data\": {\"name\": \"data-cbfde810f5707b19171bbcb6b2aa09c5\"}, \"mark\": \"bar\", \"encoding\": {\"x\": {\"type\": \"quantitative\", \"field\": \"incidents_85_99\"}, \"y\": {\"type\": \"nominal\", \"field\": \"airline\"}}, \"$schema\": \"https://vega.github.io/schema/vega-lite/v4.8.1.json\", \"datasets\": {\"data-cbfde810f5707b19171bbcb6b2aa09c5\": [{\"airline\": \"Aer Lingus\", \"avail_seat_km_per_week\": 320906734, \"incidents_85_99\": 2, \"fatal_accidents_85_99\": 0, \"fatalities_85_99\": 0, \"incidents_00_14\": 0, \"fatal_accidents_00_14\": 0, \"fatalities_00_14\": 0}, {\"airline\": \"Aeroflot*\", \"avail_seat_km_per_week\": 1197672318, \"incidents_85_99\": 76, \"fatal_accidents_85_99\": 14, \"fatalities_85_99\": 128, \"incidents_00_14\": 6, \"fatal_accidents_00_14\": 1, \"fatalities_00_14\": 88}, {\"airline\": \"Aerolineas Argentinas\", \"avail_seat_km_per_week\": 385803648, \"incidents_85_99\": 6, \"fatal_accidents_85_99\": 0, \"fatalities_85_99\": 0, \"incidents_00_14\": 1, \"fatal_accidents_00_14\": 0, \"fatalities_00_14\": 0}, {\"airline\": \"Aeromexico*\", \"avail_seat_km_per_week\": 596871813, \"incidents_85_99\": 3, \"fatal_accidents_85_99\": 1, \"fatalities_85_99\": 64, \"incidents_00_14\": 5, \"fatal_accidents_00_14\": 0, \"fatalities_00_14\": 0}, {\"airline\": \"Air Canada\", \"avail_seat_km_per_week\": 1865253802, \"incidents_85_99\": 2, \"fatal_accidents_85_99\": 0, \"fatalities_85_99\": 0, \"incidents_00_14\": 2, \"fatal_accidents_00_14\": 0, \"fatalities_00_14\": 0}, {\"airline\": \"Air France\", \"avail_seat_km_per_week\": 3004002661, \"incidents_85_99\": 14, \"fatal_accidents_85_99\": 4, \"fatalities_85_99\": 79, \"incidents_00_14\": 6, \"fatal_accidents_00_14\": 2, \"fatalities_00_14\": 337}, {\"airline\": \"Air India*\", \"avail_seat_km_per_week\": 869253552, \"incidents_85_99\": 2, \"fatal_accidents_85_99\": 1, \"fatalities_85_99\": 329, \"incidents_00_14\": 4, \"fatal_accidents_00_14\": 1, \"fatalities_00_14\": 158}, {\"airline\": \"Air New Zealand*\", \"avail_seat_km_per_week\": 710174817, \"incidents_85_99\": 3, \"fatal_accidents_85_99\": 0, \"fatalities_85_99\": 0, \"incidents_00_14\": 5, \"fatal_accidents_00_14\": 1, \"fatalities_00_14\": 7}, {\"airline\": \"Alaska Airlines*\", \"avail_seat_km_per_week\": 965346773, \"incidents_85_99\": 5, \"fatal_accidents_85_99\": 0, \"fatalities_85_99\": 0, \"incidents_00_14\": 5, \"fatal_accidents_00_14\": 1, \"fatalities_00_14\": 88}, {\"airline\": \"Alitalia\", \"avail_seat_km_per_week\": 698012498, \"incidents_85_99\": 7, \"fatal_accidents_85_99\": 2, \"fatalities_85_99\": 50, \"incidents_00_14\": 4, \"fatal_accidents_00_14\": 0, \"fatalities_00_14\": 0}, {\"airline\": \"All Nippon Airways\", \"avail_seat_km_per_week\": 1841234177, \"incidents_85_99\": 3, \"fatal_accidents_85_99\": 1, \"fatalities_85_99\": 1, \"incidents_00_14\": 7, \"fatal_accidents_00_14\": 0, \"fatalities_00_14\": 0}, {\"airline\": \"American*\", \"avail_seat_km_per_week\": 5228357340, \"incidents_85_99\": 21, \"fatal_accidents_85_99\": 5, \"fatalities_85_99\": 101, \"incidents_00_14\": 17, \"fatal_accidents_00_14\": 3, \"fatalities_00_14\": 416}, {\"airline\": \"Austrian Airlines\", \"avail_seat_km_per_week\": 358239823, \"incidents_85_99\": 1, \"fatal_accidents_85_99\": 0, \"fatalities_85_99\": 0, \"incidents_00_14\": 1, \"fatal_accidents_00_14\": 0, \"fatalities_00_14\": 0}, {\"airline\": \"Avianca\", \"avail_seat_km_per_week\": 396922563, \"incidents_85_99\": 5, \"fatal_accidents_85_99\": 3, \"fatalities_85_99\": 323, \"incidents_00_14\": 0, \"fatal_accidents_00_14\": 0, \"fatalities_00_14\": 0}, {\"airline\": \"British Airways*\", \"avail_seat_km_per_week\": 3179760952, \"incidents_85_99\": 4, \"fatal_accidents_85_99\": 0, \"fatalities_85_99\": 0, \"incidents_00_14\": 6, \"fatal_accidents_00_14\": 0, \"fatalities_00_14\": 0}, {\"airline\": \"Cathay Pacific*\", \"avail_seat_km_per_week\": 2582459303, \"incidents_85_99\": 0, \"fatal_accidents_85_99\": 0, \"fatalities_85_99\": 0, \"incidents_00_14\": 2, \"fatal_accidents_00_14\": 0, \"fatalities_00_14\": 0}, {\"airline\": \"China Airlines\", \"avail_seat_km_per_week\": 813216487, \"incidents_85_99\": 12, \"fatal_accidents_85_99\": 6, \"fatalities_85_99\": 535, \"incidents_00_14\": 2, \"fatal_accidents_00_14\": 1, \"fatalities_00_14\": 225}, {\"airline\": \"Condor\", \"avail_seat_km_per_week\": 417982610, \"incidents_85_99\": 2, \"fatal_accidents_85_99\": 1, \"fatalities_85_99\": 16, \"incidents_00_14\": 0, \"fatal_accidents_00_14\": 0, \"fatalities_00_14\": 0}, {\"airline\": \"COPA\", \"avail_seat_km_per_week\": 550491507, \"incidents_85_99\": 3, \"fatal_accidents_85_99\": 1, \"fatalities_85_99\": 47, \"incidents_00_14\": 0, \"fatal_accidents_00_14\": 0, \"fatalities_00_14\": 0}, {\"airline\": \"Delta / Northwest*\", \"avail_seat_km_per_week\": 6525658894, \"incidents_85_99\": 24, \"fatal_accidents_85_99\": 12, \"fatalities_85_99\": 407, \"incidents_00_14\": 24, \"fatal_accidents_00_14\": 2, \"fatalities_00_14\": 51}, {\"airline\": \"Egyptair\", \"avail_seat_km_per_week\": 557699891, \"incidents_85_99\": 8, \"fatal_accidents_85_99\": 3, \"fatalities_85_99\": 282, \"incidents_00_14\": 4, \"fatal_accidents_00_14\": 1, \"fatalities_00_14\": 14}, {\"airline\": \"El Al\", \"avail_seat_km_per_week\": 335448023, \"incidents_85_99\": 1, \"fatal_accidents_85_99\": 1, \"fatalities_85_99\": 4, \"incidents_00_14\": 1, \"fatal_accidents_00_14\": 0, \"fatalities_00_14\": 0}, {\"airline\": \"Ethiopian Airlines\", \"avail_seat_km_per_week\": 488560643, \"incidents_85_99\": 25, \"fatal_accidents_85_99\": 5, \"fatalities_85_99\": 167, \"incidents_00_14\": 5, \"fatal_accidents_00_14\": 2, \"fatalities_00_14\": 92}, {\"airline\": \"Finnair\", \"avail_seat_km_per_week\": 506464950, \"incidents_85_99\": 1, \"fatal_accidents_85_99\": 0, \"fatalities_85_99\": 0, \"incidents_00_14\": 0, \"fatal_accidents_00_14\": 0, \"fatalities_00_14\": 0}, {\"airline\": \"Garuda Indonesia\", \"avail_seat_km_per_week\": 613356665, \"incidents_85_99\": 10, \"fatal_accidents_85_99\": 3, \"fatalities_85_99\": 260, \"incidents_00_14\": 4, \"fatal_accidents_00_14\": 2, \"fatalities_00_14\": 22}, {\"airline\": \"Gulf Air\", \"avail_seat_km_per_week\": 301379762, \"incidents_85_99\": 1, \"fatal_accidents_85_99\": 0, \"fatalities_85_99\": 0, \"incidents_00_14\": 3, \"fatal_accidents_00_14\": 1, \"fatalities_00_14\": 143}, {\"airline\": \"Hawaiian Airlines\", \"avail_seat_km_per_week\": 493877795, \"incidents_85_99\": 0, \"fatal_accidents_85_99\": 0, \"fatalities_85_99\": 0, \"incidents_00_14\": 1, \"fatal_accidents_00_14\": 0, \"fatalities_00_14\": 0}, {\"airline\": \"Iberia\", \"avail_seat_km_per_week\": 1173203126, \"incidents_85_99\": 4, \"fatal_accidents_85_99\": 1, \"fatalities_85_99\": 148, \"incidents_00_14\": 5, \"fatal_accidents_00_14\": 0, \"fatalities_00_14\": 0}, {\"airline\": \"Japan Airlines\", \"avail_seat_km_per_week\": 1574217531, \"incidents_85_99\": 3, \"fatal_accidents_85_99\": 1, \"fatalities_85_99\": 520, \"incidents_00_14\": 0, \"fatal_accidents_00_14\": 0, \"fatalities_00_14\": 0}, {\"airline\": \"Kenya Airways\", \"avail_seat_km_per_week\": 277414794, \"incidents_85_99\": 2, \"fatal_accidents_85_99\": 0, \"fatalities_85_99\": 0, \"incidents_00_14\": 2, \"fatal_accidents_00_14\": 2, \"fatalities_00_14\": 283}, {\"airline\": \"KLM*\", \"avail_seat_km_per_week\": 1874561773, \"incidents_85_99\": 7, \"fatal_accidents_85_99\": 1, \"fatalities_85_99\": 3, \"incidents_00_14\": 1, \"fatal_accidents_00_14\": 0, \"fatalities_00_14\": 0}, {\"airline\": \"Korean Air\", \"avail_seat_km_per_week\": 1734522605, \"incidents_85_99\": 12, \"fatal_accidents_85_99\": 5, \"fatalities_85_99\": 425, \"incidents_00_14\": 1, \"fatal_accidents_00_14\": 0, \"fatalities_00_14\": 0}, {\"airline\": \"LAN Airlines\", \"avail_seat_km_per_week\": 1001965891, \"incidents_85_99\": 3, \"fatal_accidents_85_99\": 2, \"fatalities_85_99\": 21, \"incidents_00_14\": 0, \"fatal_accidents_00_14\": 0, \"fatalities_00_14\": 0}, {\"airline\": \"Lufthansa*\", \"avail_seat_km_per_week\": 3426529504, \"incidents_85_99\": 6, \"fatal_accidents_85_99\": 1, \"fatalities_85_99\": 2, \"incidents_00_14\": 3, \"fatal_accidents_00_14\": 0, \"fatalities_00_14\": 0}, {\"airline\": \"Malaysia Airlines\", \"avail_seat_km_per_week\": 1039171244, \"incidents_85_99\": 3, \"fatal_accidents_85_99\": 1, \"fatalities_85_99\": 34, \"incidents_00_14\": 3, \"fatal_accidents_00_14\": 2, \"fatalities_00_14\": 537}, {\"airline\": \"Pakistan International\", \"avail_seat_km_per_week\": 348563137, \"incidents_85_99\": 8, \"fatal_accidents_85_99\": 3, \"fatalities_85_99\": 234, \"incidents_00_14\": 10, \"fatal_accidents_00_14\": 2, \"fatalities_00_14\": 46}, {\"airline\": \"Philippine Airlines\", \"avail_seat_km_per_week\": 413007158, \"incidents_85_99\": 7, \"fatal_accidents_85_99\": 4, \"fatalities_85_99\": 74, \"incidents_00_14\": 2, \"fatal_accidents_00_14\": 1, \"fatalities_00_14\": 1}, {\"airline\": \"Qantas*\", \"avail_seat_km_per_week\": 1917428984, \"incidents_85_99\": 1, \"fatal_accidents_85_99\": 0, \"fatalities_85_99\": 0, \"incidents_00_14\": 5, \"fatal_accidents_00_14\": 0, \"fatalities_00_14\": 0}, {\"airline\": \"Royal Air Maroc\", \"avail_seat_km_per_week\": 295705339, \"incidents_85_99\": 5, \"fatal_accidents_85_99\": 3, \"fatalities_85_99\": 51, \"incidents_00_14\": 3, \"fatal_accidents_00_14\": 0, \"fatalities_00_14\": 0}, {\"airline\": \"SAS*\", \"avail_seat_km_per_week\": 682971852, \"incidents_85_99\": 5, \"fatal_accidents_85_99\": 0, \"fatalities_85_99\": 0, \"incidents_00_14\": 6, \"fatal_accidents_00_14\": 1, \"fatalities_00_14\": 110}, {\"airline\": \"Saudi Arabian\", \"avail_seat_km_per_week\": 859673901, \"incidents_85_99\": 7, \"fatal_accidents_85_99\": 2, \"fatalities_85_99\": 313, \"incidents_00_14\": 11, \"fatal_accidents_00_14\": 0, \"fatalities_00_14\": 0}, {\"airline\": \"Singapore Airlines\", \"avail_seat_km_per_week\": 2376857805, \"incidents_85_99\": 2, \"fatal_accidents_85_99\": 2, \"fatalities_85_99\": 6, \"incidents_00_14\": 2, \"fatal_accidents_00_14\": 1, \"fatalities_00_14\": 83}, {\"airline\": \"South African\", \"avail_seat_km_per_week\": 651502442, \"incidents_85_99\": 2, \"fatal_accidents_85_99\": 1, \"fatalities_85_99\": 159, \"incidents_00_14\": 1, \"fatal_accidents_00_14\": 0, \"fatalities_00_14\": 0}, {\"airline\": \"Southwest Airlines\", \"avail_seat_km_per_week\": 3276525770, \"incidents_85_99\": 1, \"fatal_accidents_85_99\": 0, \"fatalities_85_99\": 0, \"incidents_00_14\": 8, \"fatal_accidents_00_14\": 0, \"fatalities_00_14\": 0}, {\"airline\": \"Sri Lankan / AirLanka\", \"avail_seat_km_per_week\": 325582976, \"incidents_85_99\": 2, \"fatal_accidents_85_99\": 1, \"fatalities_85_99\": 14, \"incidents_00_14\": 4, \"fatal_accidents_00_14\": 0, \"fatalities_00_14\": 0}, {\"airline\": \"SWISS*\", \"avail_seat_km_per_week\": 792601299, \"incidents_85_99\": 2, \"fatal_accidents_85_99\": 1, \"fatalities_85_99\": 229, \"incidents_00_14\": 3, \"fatal_accidents_00_14\": 0, \"fatalities_00_14\": 0}, {\"airline\": \"TACA\", \"avail_seat_km_per_week\": 259373346, \"incidents_85_99\": 3, \"fatal_accidents_85_99\": 1, \"fatalities_85_99\": 3, \"incidents_00_14\": 1, \"fatal_accidents_00_14\": 1, \"fatalities_00_14\": 3}, {\"airline\": \"TAM\", \"avail_seat_km_per_week\": 1509195646, \"incidents_85_99\": 8, \"fatal_accidents_85_99\": 3, \"fatalities_85_99\": 98, \"incidents_00_14\": 7, \"fatal_accidents_00_14\": 2, \"fatalities_00_14\": 188}, {\"airline\": \"TAP - Air Portugal\", \"avail_seat_km_per_week\": 619130754, \"incidents_85_99\": 0, \"fatal_accidents_85_99\": 0, \"fatalities_85_99\": 0, \"incidents_00_14\": 0, \"fatal_accidents_00_14\": 0, \"fatalities_00_14\": 0}, {\"airline\": \"Thai Airways\", \"avail_seat_km_per_week\": 1702802250, \"incidents_85_99\": 8, \"fatal_accidents_85_99\": 4, \"fatalities_85_99\": 308, \"incidents_00_14\": 2, \"fatal_accidents_00_14\": 1, \"fatalities_00_14\": 1}, {\"airline\": \"Turkish Airlines\", \"avail_seat_km_per_week\": 1946098294, \"incidents_85_99\": 8, \"fatal_accidents_85_99\": 3, \"fatalities_85_99\": 64, \"incidents_00_14\": 8, \"fatal_accidents_00_14\": 2, \"fatalities_00_14\": 84}, {\"airline\": \"United / Continental*\", \"avail_seat_km_per_week\": 7139291291, \"incidents_85_99\": 19, \"fatal_accidents_85_99\": 8, \"fatalities_85_99\": 319, \"incidents_00_14\": 14, \"fatal_accidents_00_14\": 2, \"fatalities_00_14\": 109}, {\"airline\": \"US Airways / America West*\", \"avail_seat_km_per_week\": 2455687887, \"incidents_85_99\": 16, \"fatal_accidents_85_99\": 7, \"fatalities_85_99\": 224, \"incidents_00_14\": 11, \"fatal_accidents_00_14\": 2, \"fatalities_00_14\": 23}, {\"airline\": \"Vietnam Airlines\", \"avail_seat_km_per_week\": 625084918, \"incidents_85_99\": 7, \"fatal_accidents_85_99\": 3, \"fatalities_85_99\": 171, \"incidents_00_14\": 1, \"fatal_accidents_00_14\": 0, \"fatalities_00_14\": 0}, {\"airline\": \"Virgin Atlantic\", \"avail_seat_km_per_week\": 1005248585, \"incidents_85_99\": 1, \"fatal_accidents_85_99\": 0, \"fatalities_85_99\": 0, \"incidents_00_14\": 0, \"fatal_accidents_00_14\": 0, \"fatalities_00_14\": 0}, {\"airline\": \"Xiamen Airlines\", \"avail_seat_km_per_week\": 430462962, \"incidents_85_99\": 9, \"fatal_accidents_85_99\": 1, \"fatalities_85_99\": 82, \"incidents_00_14\": 2, \"fatal_accidents_00_14\": 0, \"fatalities_00_14\": 0}]}}, {\"mode\": \"vega-lite\"});\n",
       "</script>"
      ],
      "text/plain": [
       "alt.Chart(...)"
      ]
     },
     "execution_count": 6,
     "metadata": {},
     "output_type": "execute_result"
    }
   ],
   "source": [
    "alt.Chart(dataset).mark_bar().encode(x=\"incidents_85_99\", y=\"airline\")"
   ]
  },
  {
   "cell_type": "code",
   "execution_count": 7,
   "metadata": {},
   "outputs": [
    {
     "data": {
      "text/html": [
       "\n",
       "<div id=\"altair-viz-6e34a9c0923242b48903dac81419c5ff\"></div>\n",
       "<script type=\"text/javascript\">\n",
       "  (function(spec, embedOpt){\n",
       "    let outputDiv = document.currentScript.previousElementSibling;\n",
       "    if (outputDiv.id !== \"altair-viz-6e34a9c0923242b48903dac81419c5ff\") {\n",
       "      outputDiv = document.getElementById(\"altair-viz-6e34a9c0923242b48903dac81419c5ff\");\n",
       "    }\n",
       "    const paths = {\n",
       "      \"vega\": \"https://cdn.jsdelivr.net/npm//vega@5?noext\",\n",
       "      \"vega-lib\": \"https://cdn.jsdelivr.net/npm//vega-lib?noext\",\n",
       "      \"vega-lite\": \"https://cdn.jsdelivr.net/npm//vega-lite@4.8.1?noext\",\n",
       "      \"vega-embed\": \"https://cdn.jsdelivr.net/npm//vega-embed@6?noext\",\n",
       "    };\n",
       "\n",
       "    function loadScript(lib) {\n",
       "      return new Promise(function(resolve, reject) {\n",
       "        var s = document.createElement('script');\n",
       "        s.src = paths[lib];\n",
       "        s.async = true;\n",
       "        s.onload = () => resolve(paths[lib]);\n",
       "        s.onerror = () => reject(`Error loading script: ${paths[lib]}`);\n",
       "        document.getElementsByTagName(\"head\")[0].appendChild(s);\n",
       "      });\n",
       "    }\n",
       "\n",
       "    function showError(err) {\n",
       "      outputDiv.innerHTML = `<div class=\"error\" style=\"color:red;\">${err}</div>`;\n",
       "      throw err;\n",
       "    }\n",
       "\n",
       "    function displayChart(vegaEmbed) {\n",
       "      vegaEmbed(outputDiv, spec, embedOpt)\n",
       "        .catch(err => showError(`Javascript Error: ${err.message}<br>This usually means there's a typo in your chart specification. See the javascript console for the full traceback.`));\n",
       "    }\n",
       "\n",
       "    if(typeof define === \"function\" && define.amd) {\n",
       "      requirejs.config({paths});\n",
       "      require([\"vega-embed\"], displayChart, err => showError(`Error loading script: ${err.message}`));\n",
       "    } else if (typeof vegaEmbed === \"function\") {\n",
       "      displayChart(vegaEmbed);\n",
       "    } else {\n",
       "      loadScript(\"vega\")\n",
       "        .then(() => loadScript(\"vega-lite\"))\n",
       "        .then(() => loadScript(\"vega-embed\"))\n",
       "        .catch(showError)\n",
       "        .then(() => displayChart(vegaEmbed));\n",
       "    }\n",
       "  })({\"config\": {\"view\": {\"continuousWidth\": 400, \"continuousHeight\": 300}}, \"data\": {\"name\": \"data-cbfde810f5707b19171bbcb6b2aa09c5\"}, \"mark\": \"bar\", \"encoding\": {\"x\": {\"type\": \"quantitative\", \"field\": \"incidents_00_14\"}, \"y\": {\"type\": \"nominal\", \"field\": \"airline\"}}, \"$schema\": \"https://vega.github.io/schema/vega-lite/v4.8.1.json\", \"datasets\": {\"data-cbfde810f5707b19171bbcb6b2aa09c5\": [{\"airline\": \"Aer Lingus\", \"avail_seat_km_per_week\": 320906734, \"incidents_85_99\": 2, \"fatal_accidents_85_99\": 0, \"fatalities_85_99\": 0, \"incidents_00_14\": 0, \"fatal_accidents_00_14\": 0, \"fatalities_00_14\": 0}, {\"airline\": \"Aeroflot*\", \"avail_seat_km_per_week\": 1197672318, \"incidents_85_99\": 76, \"fatal_accidents_85_99\": 14, \"fatalities_85_99\": 128, \"incidents_00_14\": 6, \"fatal_accidents_00_14\": 1, \"fatalities_00_14\": 88}, {\"airline\": \"Aerolineas Argentinas\", \"avail_seat_km_per_week\": 385803648, \"incidents_85_99\": 6, \"fatal_accidents_85_99\": 0, \"fatalities_85_99\": 0, \"incidents_00_14\": 1, \"fatal_accidents_00_14\": 0, \"fatalities_00_14\": 0}, {\"airline\": \"Aeromexico*\", \"avail_seat_km_per_week\": 596871813, \"incidents_85_99\": 3, \"fatal_accidents_85_99\": 1, \"fatalities_85_99\": 64, \"incidents_00_14\": 5, \"fatal_accidents_00_14\": 0, \"fatalities_00_14\": 0}, {\"airline\": \"Air Canada\", \"avail_seat_km_per_week\": 1865253802, \"incidents_85_99\": 2, \"fatal_accidents_85_99\": 0, \"fatalities_85_99\": 0, \"incidents_00_14\": 2, \"fatal_accidents_00_14\": 0, \"fatalities_00_14\": 0}, {\"airline\": \"Air France\", \"avail_seat_km_per_week\": 3004002661, \"incidents_85_99\": 14, \"fatal_accidents_85_99\": 4, \"fatalities_85_99\": 79, \"incidents_00_14\": 6, \"fatal_accidents_00_14\": 2, \"fatalities_00_14\": 337}, {\"airline\": \"Air India*\", \"avail_seat_km_per_week\": 869253552, \"incidents_85_99\": 2, \"fatal_accidents_85_99\": 1, \"fatalities_85_99\": 329, \"incidents_00_14\": 4, \"fatal_accidents_00_14\": 1, \"fatalities_00_14\": 158}, {\"airline\": \"Air New Zealand*\", \"avail_seat_km_per_week\": 710174817, \"incidents_85_99\": 3, \"fatal_accidents_85_99\": 0, \"fatalities_85_99\": 0, \"incidents_00_14\": 5, \"fatal_accidents_00_14\": 1, \"fatalities_00_14\": 7}, {\"airline\": \"Alaska Airlines*\", \"avail_seat_km_per_week\": 965346773, \"incidents_85_99\": 5, \"fatal_accidents_85_99\": 0, \"fatalities_85_99\": 0, \"incidents_00_14\": 5, \"fatal_accidents_00_14\": 1, \"fatalities_00_14\": 88}, {\"airline\": \"Alitalia\", \"avail_seat_km_per_week\": 698012498, \"incidents_85_99\": 7, \"fatal_accidents_85_99\": 2, \"fatalities_85_99\": 50, \"incidents_00_14\": 4, \"fatal_accidents_00_14\": 0, \"fatalities_00_14\": 0}, {\"airline\": \"All Nippon Airways\", \"avail_seat_km_per_week\": 1841234177, \"incidents_85_99\": 3, \"fatal_accidents_85_99\": 1, \"fatalities_85_99\": 1, \"incidents_00_14\": 7, \"fatal_accidents_00_14\": 0, \"fatalities_00_14\": 0}, {\"airline\": \"American*\", \"avail_seat_km_per_week\": 5228357340, \"incidents_85_99\": 21, \"fatal_accidents_85_99\": 5, \"fatalities_85_99\": 101, \"incidents_00_14\": 17, \"fatal_accidents_00_14\": 3, \"fatalities_00_14\": 416}, {\"airline\": \"Austrian Airlines\", \"avail_seat_km_per_week\": 358239823, \"incidents_85_99\": 1, \"fatal_accidents_85_99\": 0, \"fatalities_85_99\": 0, \"incidents_00_14\": 1, \"fatal_accidents_00_14\": 0, \"fatalities_00_14\": 0}, {\"airline\": \"Avianca\", \"avail_seat_km_per_week\": 396922563, \"incidents_85_99\": 5, \"fatal_accidents_85_99\": 3, \"fatalities_85_99\": 323, \"incidents_00_14\": 0, \"fatal_accidents_00_14\": 0, \"fatalities_00_14\": 0}, {\"airline\": \"British Airways*\", \"avail_seat_km_per_week\": 3179760952, \"incidents_85_99\": 4, \"fatal_accidents_85_99\": 0, \"fatalities_85_99\": 0, \"incidents_00_14\": 6, \"fatal_accidents_00_14\": 0, \"fatalities_00_14\": 0}, {\"airline\": \"Cathay Pacific*\", \"avail_seat_km_per_week\": 2582459303, \"incidents_85_99\": 0, \"fatal_accidents_85_99\": 0, \"fatalities_85_99\": 0, \"incidents_00_14\": 2, \"fatal_accidents_00_14\": 0, \"fatalities_00_14\": 0}, {\"airline\": \"China Airlines\", \"avail_seat_km_per_week\": 813216487, \"incidents_85_99\": 12, \"fatal_accidents_85_99\": 6, \"fatalities_85_99\": 535, \"incidents_00_14\": 2, \"fatal_accidents_00_14\": 1, \"fatalities_00_14\": 225}, {\"airline\": \"Condor\", \"avail_seat_km_per_week\": 417982610, \"incidents_85_99\": 2, \"fatal_accidents_85_99\": 1, \"fatalities_85_99\": 16, \"incidents_00_14\": 0, \"fatal_accidents_00_14\": 0, \"fatalities_00_14\": 0}, {\"airline\": \"COPA\", \"avail_seat_km_per_week\": 550491507, \"incidents_85_99\": 3, \"fatal_accidents_85_99\": 1, \"fatalities_85_99\": 47, \"incidents_00_14\": 0, \"fatal_accidents_00_14\": 0, \"fatalities_00_14\": 0}, {\"airline\": \"Delta / Northwest*\", \"avail_seat_km_per_week\": 6525658894, \"incidents_85_99\": 24, \"fatal_accidents_85_99\": 12, \"fatalities_85_99\": 407, \"incidents_00_14\": 24, \"fatal_accidents_00_14\": 2, \"fatalities_00_14\": 51}, {\"airline\": \"Egyptair\", \"avail_seat_km_per_week\": 557699891, \"incidents_85_99\": 8, \"fatal_accidents_85_99\": 3, \"fatalities_85_99\": 282, \"incidents_00_14\": 4, \"fatal_accidents_00_14\": 1, \"fatalities_00_14\": 14}, {\"airline\": \"El Al\", \"avail_seat_km_per_week\": 335448023, \"incidents_85_99\": 1, \"fatal_accidents_85_99\": 1, \"fatalities_85_99\": 4, \"incidents_00_14\": 1, \"fatal_accidents_00_14\": 0, \"fatalities_00_14\": 0}, {\"airline\": \"Ethiopian Airlines\", \"avail_seat_km_per_week\": 488560643, \"incidents_85_99\": 25, \"fatal_accidents_85_99\": 5, \"fatalities_85_99\": 167, \"incidents_00_14\": 5, \"fatal_accidents_00_14\": 2, \"fatalities_00_14\": 92}, {\"airline\": \"Finnair\", \"avail_seat_km_per_week\": 506464950, \"incidents_85_99\": 1, \"fatal_accidents_85_99\": 0, \"fatalities_85_99\": 0, \"incidents_00_14\": 0, \"fatal_accidents_00_14\": 0, \"fatalities_00_14\": 0}, {\"airline\": \"Garuda Indonesia\", \"avail_seat_km_per_week\": 613356665, \"incidents_85_99\": 10, \"fatal_accidents_85_99\": 3, \"fatalities_85_99\": 260, \"incidents_00_14\": 4, \"fatal_accidents_00_14\": 2, \"fatalities_00_14\": 22}, {\"airline\": \"Gulf Air\", \"avail_seat_km_per_week\": 301379762, \"incidents_85_99\": 1, \"fatal_accidents_85_99\": 0, \"fatalities_85_99\": 0, \"incidents_00_14\": 3, \"fatal_accidents_00_14\": 1, \"fatalities_00_14\": 143}, {\"airline\": \"Hawaiian Airlines\", \"avail_seat_km_per_week\": 493877795, \"incidents_85_99\": 0, \"fatal_accidents_85_99\": 0, \"fatalities_85_99\": 0, \"incidents_00_14\": 1, \"fatal_accidents_00_14\": 0, \"fatalities_00_14\": 0}, {\"airline\": \"Iberia\", \"avail_seat_km_per_week\": 1173203126, \"incidents_85_99\": 4, \"fatal_accidents_85_99\": 1, \"fatalities_85_99\": 148, \"incidents_00_14\": 5, \"fatal_accidents_00_14\": 0, \"fatalities_00_14\": 0}, {\"airline\": \"Japan Airlines\", \"avail_seat_km_per_week\": 1574217531, \"incidents_85_99\": 3, \"fatal_accidents_85_99\": 1, \"fatalities_85_99\": 520, \"incidents_00_14\": 0, \"fatal_accidents_00_14\": 0, \"fatalities_00_14\": 0}, {\"airline\": \"Kenya Airways\", \"avail_seat_km_per_week\": 277414794, \"incidents_85_99\": 2, \"fatal_accidents_85_99\": 0, \"fatalities_85_99\": 0, \"incidents_00_14\": 2, \"fatal_accidents_00_14\": 2, \"fatalities_00_14\": 283}, {\"airline\": \"KLM*\", \"avail_seat_km_per_week\": 1874561773, \"incidents_85_99\": 7, \"fatal_accidents_85_99\": 1, \"fatalities_85_99\": 3, \"incidents_00_14\": 1, \"fatal_accidents_00_14\": 0, \"fatalities_00_14\": 0}, {\"airline\": \"Korean Air\", \"avail_seat_km_per_week\": 1734522605, \"incidents_85_99\": 12, \"fatal_accidents_85_99\": 5, \"fatalities_85_99\": 425, \"incidents_00_14\": 1, \"fatal_accidents_00_14\": 0, \"fatalities_00_14\": 0}, {\"airline\": \"LAN Airlines\", \"avail_seat_km_per_week\": 1001965891, \"incidents_85_99\": 3, \"fatal_accidents_85_99\": 2, \"fatalities_85_99\": 21, \"incidents_00_14\": 0, \"fatal_accidents_00_14\": 0, \"fatalities_00_14\": 0}, {\"airline\": \"Lufthansa*\", \"avail_seat_km_per_week\": 3426529504, \"incidents_85_99\": 6, \"fatal_accidents_85_99\": 1, \"fatalities_85_99\": 2, \"incidents_00_14\": 3, \"fatal_accidents_00_14\": 0, \"fatalities_00_14\": 0}, {\"airline\": \"Malaysia Airlines\", \"avail_seat_km_per_week\": 1039171244, \"incidents_85_99\": 3, \"fatal_accidents_85_99\": 1, \"fatalities_85_99\": 34, \"incidents_00_14\": 3, \"fatal_accidents_00_14\": 2, \"fatalities_00_14\": 537}, {\"airline\": \"Pakistan International\", \"avail_seat_km_per_week\": 348563137, \"incidents_85_99\": 8, \"fatal_accidents_85_99\": 3, \"fatalities_85_99\": 234, \"incidents_00_14\": 10, \"fatal_accidents_00_14\": 2, \"fatalities_00_14\": 46}, {\"airline\": \"Philippine Airlines\", \"avail_seat_km_per_week\": 413007158, \"incidents_85_99\": 7, \"fatal_accidents_85_99\": 4, \"fatalities_85_99\": 74, \"incidents_00_14\": 2, \"fatal_accidents_00_14\": 1, \"fatalities_00_14\": 1}, {\"airline\": \"Qantas*\", \"avail_seat_km_per_week\": 1917428984, \"incidents_85_99\": 1, \"fatal_accidents_85_99\": 0, \"fatalities_85_99\": 0, \"incidents_00_14\": 5, \"fatal_accidents_00_14\": 0, \"fatalities_00_14\": 0}, {\"airline\": \"Royal Air Maroc\", \"avail_seat_km_per_week\": 295705339, \"incidents_85_99\": 5, \"fatal_accidents_85_99\": 3, \"fatalities_85_99\": 51, \"incidents_00_14\": 3, \"fatal_accidents_00_14\": 0, \"fatalities_00_14\": 0}, {\"airline\": \"SAS*\", \"avail_seat_km_per_week\": 682971852, \"incidents_85_99\": 5, \"fatal_accidents_85_99\": 0, \"fatalities_85_99\": 0, \"incidents_00_14\": 6, \"fatal_accidents_00_14\": 1, \"fatalities_00_14\": 110}, {\"airline\": \"Saudi Arabian\", \"avail_seat_km_per_week\": 859673901, \"incidents_85_99\": 7, \"fatal_accidents_85_99\": 2, \"fatalities_85_99\": 313, \"incidents_00_14\": 11, \"fatal_accidents_00_14\": 0, \"fatalities_00_14\": 0}, {\"airline\": \"Singapore Airlines\", \"avail_seat_km_per_week\": 2376857805, \"incidents_85_99\": 2, \"fatal_accidents_85_99\": 2, \"fatalities_85_99\": 6, \"incidents_00_14\": 2, \"fatal_accidents_00_14\": 1, \"fatalities_00_14\": 83}, {\"airline\": \"South African\", \"avail_seat_km_per_week\": 651502442, \"incidents_85_99\": 2, \"fatal_accidents_85_99\": 1, \"fatalities_85_99\": 159, \"incidents_00_14\": 1, \"fatal_accidents_00_14\": 0, \"fatalities_00_14\": 0}, {\"airline\": \"Southwest Airlines\", \"avail_seat_km_per_week\": 3276525770, \"incidents_85_99\": 1, \"fatal_accidents_85_99\": 0, \"fatalities_85_99\": 0, \"incidents_00_14\": 8, \"fatal_accidents_00_14\": 0, \"fatalities_00_14\": 0}, {\"airline\": \"Sri Lankan / AirLanka\", \"avail_seat_km_per_week\": 325582976, \"incidents_85_99\": 2, \"fatal_accidents_85_99\": 1, \"fatalities_85_99\": 14, \"incidents_00_14\": 4, \"fatal_accidents_00_14\": 0, \"fatalities_00_14\": 0}, {\"airline\": \"SWISS*\", \"avail_seat_km_per_week\": 792601299, \"incidents_85_99\": 2, \"fatal_accidents_85_99\": 1, \"fatalities_85_99\": 229, \"incidents_00_14\": 3, \"fatal_accidents_00_14\": 0, \"fatalities_00_14\": 0}, {\"airline\": \"TACA\", \"avail_seat_km_per_week\": 259373346, \"incidents_85_99\": 3, \"fatal_accidents_85_99\": 1, \"fatalities_85_99\": 3, \"incidents_00_14\": 1, \"fatal_accidents_00_14\": 1, \"fatalities_00_14\": 3}, {\"airline\": \"TAM\", \"avail_seat_km_per_week\": 1509195646, \"incidents_85_99\": 8, \"fatal_accidents_85_99\": 3, \"fatalities_85_99\": 98, \"incidents_00_14\": 7, \"fatal_accidents_00_14\": 2, \"fatalities_00_14\": 188}, {\"airline\": \"TAP - Air Portugal\", \"avail_seat_km_per_week\": 619130754, \"incidents_85_99\": 0, \"fatal_accidents_85_99\": 0, \"fatalities_85_99\": 0, \"incidents_00_14\": 0, \"fatal_accidents_00_14\": 0, \"fatalities_00_14\": 0}, {\"airline\": \"Thai Airways\", \"avail_seat_km_per_week\": 1702802250, \"incidents_85_99\": 8, \"fatal_accidents_85_99\": 4, \"fatalities_85_99\": 308, \"incidents_00_14\": 2, \"fatal_accidents_00_14\": 1, \"fatalities_00_14\": 1}, {\"airline\": \"Turkish Airlines\", \"avail_seat_km_per_week\": 1946098294, \"incidents_85_99\": 8, \"fatal_accidents_85_99\": 3, \"fatalities_85_99\": 64, \"incidents_00_14\": 8, \"fatal_accidents_00_14\": 2, \"fatalities_00_14\": 84}, {\"airline\": \"United / Continental*\", \"avail_seat_km_per_week\": 7139291291, \"incidents_85_99\": 19, \"fatal_accidents_85_99\": 8, \"fatalities_85_99\": 319, \"incidents_00_14\": 14, \"fatal_accidents_00_14\": 2, \"fatalities_00_14\": 109}, {\"airline\": \"US Airways / America West*\", \"avail_seat_km_per_week\": 2455687887, \"incidents_85_99\": 16, \"fatal_accidents_85_99\": 7, \"fatalities_85_99\": 224, \"incidents_00_14\": 11, \"fatal_accidents_00_14\": 2, \"fatalities_00_14\": 23}, {\"airline\": \"Vietnam Airlines\", \"avail_seat_km_per_week\": 625084918, \"incidents_85_99\": 7, \"fatal_accidents_85_99\": 3, \"fatalities_85_99\": 171, \"incidents_00_14\": 1, \"fatal_accidents_00_14\": 0, \"fatalities_00_14\": 0}, {\"airline\": \"Virgin Atlantic\", \"avail_seat_km_per_week\": 1005248585, \"incidents_85_99\": 1, \"fatal_accidents_85_99\": 0, \"fatalities_85_99\": 0, \"incidents_00_14\": 0, \"fatal_accidents_00_14\": 0, \"fatalities_00_14\": 0}, {\"airline\": \"Xiamen Airlines\", \"avail_seat_km_per_week\": 430462962, \"incidents_85_99\": 9, \"fatal_accidents_85_99\": 1, \"fatalities_85_99\": 82, \"incidents_00_14\": 2, \"fatal_accidents_00_14\": 0, \"fatalities_00_14\": 0}]}}, {\"mode\": \"vega-lite\"});\n",
       "</script>"
      ],
      "text/plain": [
       "alt.Chart(...)"
      ]
     },
     "execution_count": 7,
     "metadata": {},
     "output_type": "execute_result"
    }
   ],
   "source": [
    "alt.Chart(dataset).mark_bar().encode(x=\"incidents_00_14\", y=\"airline\")"
   ]
  },
  {
   "cell_type": "code",
   "execution_count": null,
   "metadata": {},
   "outputs": [],
   "source": []
  }
 ],
 "metadata": {
  "kernelspec": {
   "display_name": "Python 3",
   "language": "python",
   "name": "python3"
  },
  "language_info": {
   "codemirror_mode": {
    "name": "ipython",
    "version": 3
   },
   "file_extension": ".py",
   "mimetype": "text/x-python",
   "name": "python",
   "nbconvert_exporter": "python",
   "pygments_lexer": "ipython3",
   "version": "3.7.4"
  }
 },
 "nbformat": 4,
 "nbformat_minor": 2
}
